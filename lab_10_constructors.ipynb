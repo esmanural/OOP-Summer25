{
 "cells": [
  {
   "cell_type": "code",
   "execution_count": 3,
   "id": "33fb83c1",
   "metadata": {},
   "outputs": [],
   "source": [
    "class Animal:\n",
    "    def __init__(self):\n",
    "        print(\"An Animal object has been created!\")"
   ]
  },
  {
   "cell_type": "code",
   "execution_count": 4,
   "id": "d0cca3c0",
   "metadata": {},
   "outputs": [
    {
     "name": "stdout",
     "output_type": "stream",
     "text": [
      "An Animal object has been created!\n",
      "An Animal object has been created!\n",
      "An Animal object has been created!\n"
     ]
    }
   ],
   "source": [
    "animal1 = Animal()\n",
    "animal2 = Animal()\n",
    "animal3 = Animal()"
   ]
  },
  {
   "cell_type": "code",
   "execution_count": 2,
   "id": "cdb9c74e",
   "metadata": {},
   "outputs": [],
   "source": [
    "\n",
    "class Car:\n",
    "    def __init__(self, brand, model):\n",
    "        self.brand = brand\n",
    "        self.model = model"
   ]
  },
  {
   "cell_type": "code",
   "execution_count": 3,
   "id": "f612b27d",
   "metadata": {},
   "outputs": [],
   "source": [
    "\n",
    "car1 = Car(\"Toyota\", \"Corolla\")\n",
    "car2 = Car(\"Ford\", \"Mustang\")\n",
    "car3 = Car(\"Tesla\", \"Model S\")\n"
   ]
  },
  {
   "cell_type": "code",
   "execution_count": 4,
   "id": "38d8be5f",
   "metadata": {},
   "outputs": [
    {
     "name": "stdout",
     "output_type": "stream",
     "text": [
      "Toyota Corolla\n",
      "Ford Mustang\n",
      "Tesla Model S\n"
     ]
    }
   ],
   "source": [
    "print(car1.brand, car1.model)\n",
    "print(car2.brand, car2.model)\n",
    "print(car3.brand, car3.model)"
   ]
  },
  {
   "cell_type": "markdown",
   "id": "cd38908a",
   "metadata": {},
   "source": [
    "## Task for extra point - complex constructor"
   ]
  },
  {
   "cell_type": "code",
   "execution_count": null,
   "id": "cf320cbf",
   "metadata": {},
   "outputs": [],
   "source": [
    "class House:\n",
    "    def __init__(self, location, floors, furnitures):\n",
    "        self.location = location\n",
    "        self.floors = floors\n",
    "        self.furnitures = furnitures\n",
    "        print(\"House created in\", self.location['city'], \"-\", self.floors, \"floor(s)\")\n",
    "house1 = House(\n",
    "    location={'country': 'Poland', 'city': 'Warsaw', 'street': 'Maple St. 12'},\n",
    "    floors=2,\n",
    "    furnitures=['table', 'sofa', 'bed']\n",
    ")\n",
    "house2 = House(\n",
    "    location={'country': 'Germany', 'city': 'Berlin', 'street': 'Lindenstr. 99'},\n",
    "    floors=3,\n",
    "    furnitures=['chair', 'bookshelf', 'lamp']\n",
    ")"
   ]
  }
 ],
 "metadata": {
  "kernelspec": {
   "display_name": ".venv",
   "language": "python",
   "name": "python3"
  },
  "language_info": {
   "codemirror_mode": {
    "name": "ipython",
    "version": 3
   },
   "file_extension": ".py",
   "mimetype": "text/x-python",
   "name": "python",
   "nbconvert_exporter": "python",
   "pygments_lexer": "ipython3",
   "version": "3.12.1"
  }
 },
 "nbformat": 4,
 "nbformat_minor": 5
}
